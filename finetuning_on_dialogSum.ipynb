{
  "nbformat": 4,
  "nbformat_minor": 0,
  "metadata": {
    "colab": {
      "provenance": [],
      "gpuType": "T4"
    },
    "kernelspec": {
      "name": "python3",
      "display_name": "Python 3"
    },
    "language_info": {
      "name": "python"
    },
    "accelerator": "GPU"
  },
  "cells": [
    {
      "cell_type": "code",
      "source": [
        "import matplotlib.pyplot as plt\n",
        "import seaborn as sns\n",
        "import plotly.express as px\n",
        "import plotly.graph_objects as go\n",
        "from plotly.subplots import make_subplots\n",
        "import pandas as pd\n",
        "import numpy as np"
      ],
      "metadata": {
        "id": "WfusS7-wjliq"
      },
      "execution_count": 15,
      "outputs": []
    },
    {
      "cell_type": "code",
      "execution_count": null,
      "metadata": {
        "id": "paFuv1ZPuEv6"
      },
      "outputs": [],
      "source": [
        "# Install kaggle CLI if not already installed\n",
        "!pip install -q kaggle\n",
        "\n",
        "# Upload your kaggle.json file (from kaggle.com/account)\n",
        "from google.colab import files\n",
        "files.upload()  # Upload kaggle.json\n",
        "\n",
        "# Configure kaggle\n",
        "!mkdir -p ~/.kaggle\n",
        "!cp kaggle.json ~/.kaggle/\n",
        "!chmod 600 ~/.kaggle/kaggle.json\n",
        "\n",
        "# Download and extract DialogSum\n",
        "!kaggle datasets download -d marawanxmamdouh/dialogsum\n",
        "!unzip dialogsum.zip"
      ]
    },
    {
      "cell_type": "code",
      "source": [
        "import pandas as pd\n",
        "\n",
        "# Load the dataset\n",
        "train_df = pd.read_csv('/content/CSV/train.csv')\n",
        "val_df = pd.read_csv('/content/CSV/validation.csv')\n",
        "test_df = pd.read_csv('/content/CSV/test.csv')\n",
        "\n",
        "print(\"DialogSum Dataset Info:\")\n",
        "print(f\"Train: {len(train_df):,} samples\")\n",
        "print(f\"Validation: {len(val_df):,} samples\")\n",
        "print(f\"Test: {len(test_df):,} samples\")\n"
      ],
      "metadata": {
        "colab": {
          "base_uri": "https://localhost:8080/"
        },
        "id": "SXvAC2FguMbo",
        "outputId": "d22f15e8-6f01-4c3b-ae56-c8507dd17a4f"
      },
      "execution_count": 4,
      "outputs": [
        {
          "output_type": "stream",
          "name": "stdout",
          "text": [
            "DialogSum Dataset Info:\n",
            "Train: 12,460 samples\n",
            "Validation: 500 samples\n",
            "Test: 1,500 samples\n"
          ]
        }
      ]
    },
    {
      "cell_type": "code",
      "source": [
        "train_df.head()"
      ],
      "metadata": {
        "colab": {
          "base_uri": "https://localhost:8080/",
          "height": 276
        },
        "id": "_3JqH7bGuy1r",
        "outputId": "f924ff4f-86c4-48f4-e4d9-f76af57b6325"
      },
      "execution_count": null,
      "outputs": [
        {
          "output_type": "execute_result",
          "data": {
            "text/plain": [
              "        id                                           dialogue  \\\n",
              "0  train_0  #Person1#: Hi, Mr. Smith. I'm Doctor Hawkins. ...   \n",
              "1  train_1  #Person1#: Hello Mrs. Parker, how have you bee...   \n",
              "2  train_2  #Person1#: Excuse me, did you see a set of key...   \n",
              "3  train_3  #Person1#: Why didn't you tell me you had a gi...   \n",
              "4  train_4  #Person1#: Watsup, ladies! Y'll looking'fine t...   \n",
              "\n",
              "                                             summary              topic  \n",
              "0  Mr. Smith's getting a check-up, and Doctor Haw...     get a check-up  \n",
              "1  Mrs Parker takes Ricky for his vaccines. Dr. P...           vaccines  \n",
              "2  #Person1#'s looking for a set of keys and asks...          find keys  \n",
              "3  #Person1#'s angry because #Person2# didn't tel...  have a girlfriend  \n",
              "4  Malik invites Nikki to dance. Nikki agrees if ...              dance  "
            ],
            "text/html": [
              "\n",
              "  <div id=\"df-1c967e71-cea5-48f7-916c-008fc43361df\" class=\"colab-df-container\">\n",
              "    <div>\n",
              "<style scoped>\n",
              "    .dataframe tbody tr th:only-of-type {\n",
              "        vertical-align: middle;\n",
              "    }\n",
              "\n",
              "    .dataframe tbody tr th {\n",
              "        vertical-align: top;\n",
              "    }\n",
              "\n",
              "    .dataframe thead th {\n",
              "        text-align: right;\n",
              "    }\n",
              "</style>\n",
              "<table border=\"1\" class=\"dataframe\">\n",
              "  <thead>\n",
              "    <tr style=\"text-align: right;\">\n",
              "      <th></th>\n",
              "      <th>id</th>\n",
              "      <th>dialogue</th>\n",
              "      <th>summary</th>\n",
              "      <th>topic</th>\n",
              "    </tr>\n",
              "  </thead>\n",
              "  <tbody>\n",
              "    <tr>\n",
              "      <th>0</th>\n",
              "      <td>train_0</td>\n",
              "      <td>#Person1#: Hi, Mr. Smith. I'm Doctor Hawkins. ...</td>\n",
              "      <td>Mr. Smith's getting a check-up, and Doctor Haw...</td>\n",
              "      <td>get a check-up</td>\n",
              "    </tr>\n",
              "    <tr>\n",
              "      <th>1</th>\n",
              "      <td>train_1</td>\n",
              "      <td>#Person1#: Hello Mrs. Parker, how have you bee...</td>\n",
              "      <td>Mrs Parker takes Ricky for his vaccines. Dr. P...</td>\n",
              "      <td>vaccines</td>\n",
              "    </tr>\n",
              "    <tr>\n",
              "      <th>2</th>\n",
              "      <td>train_2</td>\n",
              "      <td>#Person1#: Excuse me, did you see a set of key...</td>\n",
              "      <td>#Person1#'s looking for a set of keys and asks...</td>\n",
              "      <td>find keys</td>\n",
              "    </tr>\n",
              "    <tr>\n",
              "      <th>3</th>\n",
              "      <td>train_3</td>\n",
              "      <td>#Person1#: Why didn't you tell me you had a gi...</td>\n",
              "      <td>#Person1#'s angry because #Person2# didn't tel...</td>\n",
              "      <td>have a girlfriend</td>\n",
              "    </tr>\n",
              "    <tr>\n",
              "      <th>4</th>\n",
              "      <td>train_4</td>\n",
              "      <td>#Person1#: Watsup, ladies! Y'll looking'fine t...</td>\n",
              "      <td>Malik invites Nikki to dance. Nikki agrees if ...</td>\n",
              "      <td>dance</td>\n",
              "    </tr>\n",
              "  </tbody>\n",
              "</table>\n",
              "</div>\n",
              "    <div class=\"colab-df-buttons\">\n",
              "      \n",
              "  <div class=\"colab-df-container\">\n",
              "    <button class=\"colab-df-convert\" onclick=\"convertToInteractive('df-1c967e71-cea5-48f7-916c-008fc43361df')\"\n",
              "            title=\"Convert this dataframe to an interactive table.\"\n",
              "            style=\"display:none;\">\n",
              "      \n",
              "  <svg xmlns=\"http://www.w3.org/2000/svg\" height=\"24px\" viewBox=\"0 -960 960 960\">\n",
              "    <path d=\"M120-120v-720h720v720H120Zm60-500h600v-160H180v160Zm220 220h160v-160H400v160Zm0 220h160v-160H400v160ZM180-400h160v-160H180v160Zm440 0h160v-160H620v160ZM180-180h160v-160H180v160Zm440 0h160v-160H620v160Z\"/>\n",
              "  </svg>\n",
              "    </button>\n",
              "    \n",
              "  <style>\n",
              "    .colab-df-container {\n",
              "      display:flex;\n",
              "      gap: 12px;\n",
              "    }\n",
              "\n",
              "    .colab-df-convert {\n",
              "      background-color: #E8F0FE;\n",
              "      border: none;\n",
              "      border-radius: 50%;\n",
              "      cursor: pointer;\n",
              "      display: none;\n",
              "      fill: #1967D2;\n",
              "      height: 32px;\n",
              "      padding: 0 0 0 0;\n",
              "      width: 32px;\n",
              "    }\n",
              "\n",
              "    .colab-df-convert:hover {\n",
              "      background-color: #E2EBFA;\n",
              "      box-shadow: 0px 1px 2px rgba(60, 64, 67, 0.3), 0px 1px 3px 1px rgba(60, 64, 67, 0.15);\n",
              "      fill: #174EA6;\n",
              "    }\n",
              "\n",
              "    .colab-df-buttons div {\n",
              "      margin-bottom: 4px;\n",
              "    }\n",
              "\n",
              "    [theme=dark] .colab-df-convert {\n",
              "      background-color: #3B4455;\n",
              "      fill: #D2E3FC;\n",
              "    }\n",
              "\n",
              "    [theme=dark] .colab-df-convert:hover {\n",
              "      background-color: #434B5C;\n",
              "      box-shadow: 0px 1px 3px 1px rgba(0, 0, 0, 0.15);\n",
              "      filter: drop-shadow(0px 1px 2px rgba(0, 0, 0, 0.3));\n",
              "      fill: #FFFFFF;\n",
              "    }\n",
              "  </style>\n",
              "\n",
              "    <script>\n",
              "      const buttonEl =\n",
              "        document.querySelector('#df-1c967e71-cea5-48f7-916c-008fc43361df button.colab-df-convert');\n",
              "      buttonEl.style.display =\n",
              "        google.colab.kernel.accessAllowed ? 'block' : 'none';\n",
              "\n",
              "      async function convertToInteractive(key) {\n",
              "        const element = document.querySelector('#df-1c967e71-cea5-48f7-916c-008fc43361df');\n",
              "        const dataTable =\n",
              "          await google.colab.kernel.invokeFunction('convertToInteractive',\n",
              "                                                    [key], {});\n",
              "        if (!dataTable) return;\n",
              "\n",
              "        const docLinkHtml = 'Like what you see? Visit the ' +\n",
              "          '<a target=\"_blank\" href=https://colab.research.google.com/notebooks/data_table.ipynb>data table notebook</a>'\n",
              "          + ' to learn more about interactive tables.';\n",
              "        element.innerHTML = '';\n",
              "        dataTable['output_type'] = 'display_data';\n",
              "        await google.colab.output.renderOutput(dataTable, element);\n",
              "        const docLink = document.createElement('div');\n",
              "        docLink.innerHTML = docLinkHtml;\n",
              "        element.appendChild(docLink);\n",
              "      }\n",
              "    </script>\n",
              "  </div>\n",
              "  \n",
              "    </div>\n",
              "  </div>\n",
              "  "
            ]
          },
          "metadata": {},
          "execution_count": 5
        }
      ]
    },
    {
      "cell_type": "code",
      "source": [
        "train_df.iloc[0]"
      ],
      "metadata": {
        "colab": {
          "base_uri": "https://localhost:8080/",
          "height": 210
        },
        "id": "DfKtOpGau37H",
        "outputId": "cedb46b9-6876-4384-db2c-9dc56406cf8f"
      },
      "execution_count": null,
      "outputs": [
        {
          "output_type": "execute_result",
          "data": {
            "text/plain": [
              "id                                                    train_0\n",
              "dialogue    #Person1#: Hi, Mr. Smith. I'm Doctor Hawkins. ...\n",
              "summary     Mr. Smith's getting a check-up, and Doctor Haw...\n",
              "topic                                          get a check-up\n",
              "Name: 0, dtype: object"
            ],
            "text/html": [
              "<div>\n",
              "<style scoped>\n",
              "    .dataframe tbody tr th:only-of-type {\n",
              "        vertical-align: middle;\n",
              "    }\n",
              "\n",
              "    .dataframe tbody tr th {\n",
              "        vertical-align: top;\n",
              "    }\n",
              "\n",
              "    .dataframe thead th {\n",
              "        text-align: right;\n",
              "    }\n",
              "</style>\n",
              "<table border=\"1\" class=\"dataframe\">\n",
              "  <thead>\n",
              "    <tr style=\"text-align: right;\">\n",
              "      <th></th>\n",
              "      <th>0</th>\n",
              "    </tr>\n",
              "  </thead>\n",
              "  <tbody>\n",
              "    <tr>\n",
              "      <th>id</th>\n",
              "      <td>train_0</td>\n",
              "    </tr>\n",
              "    <tr>\n",
              "      <th>dialogue</th>\n",
              "      <td>#Person1#: Hi, Mr. Smith. I'm Doctor Hawkins. ...</td>\n",
              "    </tr>\n",
              "    <tr>\n",
              "      <th>summary</th>\n",
              "      <td>Mr. Smith's getting a check-up, and Doctor Haw...</td>\n",
              "    </tr>\n",
              "    <tr>\n",
              "      <th>topic</th>\n",
              "      <td>get a check-up</td>\n",
              "    </tr>\n",
              "  </tbody>\n",
              "</table>\n",
              "</div><br><label><b>dtype:</b> object</label>"
            ]
          },
          "metadata": {},
          "execution_count": 6
        }
      ]
    },
    {
      "cell_type": "code",
      "source": [
        "pd.set_option('display.max_colwidth', None)"
      ],
      "metadata": {
        "id": "oY9OpqYWvFL4"
      },
      "execution_count": null,
      "outputs": []
    },
    {
      "cell_type": "code",
      "source": [
        "from transformers import AutoTokenizer\n",
        "\n",
        "# Load tokenizer for the CORRECT model\n",
        "tokenizer = AutoTokenizer.from_pretrained(\"sshleifer/distilbart-cnn-12-6\")\n",
        "# Your existing preprocessing function works perfectly!\n",
        "def preprocess_dialogue(dialogue, summary, max_input_length=512, max_output_length=128):\n",
        "    \"\"\"\n",
        "    Preprocess dialogue-summary pair for training.\n",
        "    No additional cleaning needed - data is clean!\n",
        "    \"\"\"\n",
        "    # Tokenize dialogue (input)\n",
        "    input_encodings = tokenizer(\n",
        "        dialogue,  # Already clean: \"#Person1#: Hi...\\n#Person2#: I found...\"\n",
        "        truncation=True,\n",
        "        padding=False,\n",
        "        max_length=max_input_length,\n",
        "        return_tensors=None\n",
        "    )\n",
        "\n",
        "    # Tokenize summary (target)\n",
        "    target_encodings = tokenizer(\n",
        "        summary,   # Already clean: \"Mr. Smith's getting a check-up...\"\n",
        "        truncation=True,\n",
        "        padding=False,\n",
        "        max_length=max_output_length,\n",
        "        return_tensors=None\n",
        "    )\n",
        "\n",
        "    return {\n",
        "        'input_ids': input_encodings['input_ids'],\n",
        "        'attention_mask': input_encodings['attention_mask'],\n",
        "        'labels': target_encodings['input_ids']\n",
        "    }\n",
        "\n",
        "# Test it\n",
        "sample = preprocess_dialogue(\n",
        "    train_df.iloc[0]['dialogue'],\n",
        "    train_df.iloc[0]['summary']\n",
        ")\n",
        "\n",
        "print(\"✅ Data is ready for fine-tuning!\")\n",
        "print(f\"Input length: {len(sample['input_ids'])} tokens\")\n",
        "print(f\"Target length: {len(sample['labels'])} tokens\")"
      ],
      "metadata": {
        "colab": {
          "base_uri": "https://localhost:8080/"
        },
        "id": "j_EeRZZlvkDg",
        "outputId": "03101b36-ac8d-4406-ab0f-e289cb58a7b1"
      },
      "execution_count": null,
      "outputs": [
        {
          "output_type": "stream",
          "name": "stderr",
          "text": [
            "/usr/local/lib/python3.12/dist-packages/huggingface_hub/utils/_auth.py:94: UserWarning: \n",
            "The secret `HF_TOKEN` does not exist in your Colab secrets.\n",
            "To authenticate with the Hugging Face Hub, create a token in your settings tab (https://huggingface.co/settings/tokens), set it as secret in your Google Colab and restart your session.\n",
            "You will be able to reuse this secret in all of your notebooks.\n",
            "Please note that authentication is recommended but still optional to access public models or datasets.\n",
            "  warnings.warn(\n"
          ]
        },
        {
          "output_type": "stream",
          "name": "stdout",
          "text": [
            "✅ Data is ready for fine-tuning!\n",
            "Input length: 271 tokens\n",
            "Target length: 41 tokens\n"
          ]
        }
      ]
    },
    {
      "cell_type": "code",
      "source": [
        "from torch.utils.data import Dataset\n",
        "import torch\n",
        "from transformers import DataCollatorForSeq2Seq\n",
        "\n",
        "class DialogSumDataset(Dataset):\n",
        "    def __init__(self, dataframe, tokenizer, max_input_length=512, max_output_length=128):\n",
        "        self.data = dataframe\n",
        "        self.tokenizer = tokenizer\n",
        "        self.max_input_length = max_input_length\n",
        "        self.max_output_length = max_output_length\n",
        "\n",
        "    def __len__(self):\n",
        "        return len(self.data)\n",
        "\n",
        "    def __getitem__(self, idx):\n",
        "        dialogue = str(self.data.iloc[idx]['dialogue'])\n",
        "        summary = str(self.data.iloc[idx]['summary'])\n",
        "\n",
        "        # Ensure padding is applied here\n",
        "        input_encodings = self.tokenizer(\n",
        "            dialogue,\n",
        "            truncation=True,\n",
        "            padding='max_length',  # Add padding\n",
        "            max_length=self.max_input_length,\n",
        "            return_tensors=None\n",
        "        )\n",
        "\n",
        "        target_encodings = self.tokenizer(\n",
        "            summary,\n",
        "            truncation=True,\n",
        "            padding='max_length', # Add padding\n",
        "            max_length=self.max_output_length,\n",
        "            return_tensors=None\n",
        "        )\n",
        "\n",
        "        return {\n",
        "            'input_ids': input_encodings['input_ids'],\n",
        "            'attention_mask': input_encodings['attention_mask'],\n",
        "            'labels': target_encodings['input_ids']\n",
        "        }\n",
        "\n",
        "# Create datasets (use smaller subset for faster training)\n",
        "train_dataset = DialogSumDataset(train_df, tokenizer)  # Use 5K samples for speed\n",
        "val_dataset = DialogSumDataset(val_df, tokenizer)      # Use 500 samples for validation\n",
        "\n",
        "print(f\"✅ Datasets created!\")\n",
        "print(f\"Train samples: {len(train_dataset)}\")\n",
        "print(f\"Validation samples: {len(val_dataset)}\")"
      ],
      "metadata": {
        "colab": {
          "base_uri": "https://localhost:8080/"
        },
        "id": "6SfbpI2lvkpg",
        "outputId": "bc4af3c6-5766-4e5e-aa73-32e33fc9c5a5"
      },
      "execution_count": null,
      "outputs": [
        {
          "output_type": "stream",
          "name": "stdout",
          "text": [
            "✅ Datasets created!\n",
            "Train samples: 12460\n",
            "Validation samples: 500\n"
          ]
        }
      ]
    },
    {
      "cell_type": "code",
      "source": [
        "from transformers import TrainingArguments, Trainer\n",
        "from transformers import AutoModelForSeq2SeqLM\n",
        "model_name = \"sshleifer/distilbart-cnn-12-6\"\n",
        "# Load model\n",
        "model = AutoModelForSeq2SeqLM.from_pretrained(model_name)\n",
        "\n",
        "# Enable gradient checkpointing to save memory\n",
        "model.gradient_checkpointing_enable()\n",
        "\n",
        "# Training arguments (optimized for efficiency)\n",
        "training_args = TrainingArguments(\n",
        "    output_dir=\"./dialogsum-finetuned\",\n",
        "    num_train_epochs=4,  # Start with 2 epochs\n",
        "    per_device_train_batch_size=2,  # Adjust based on your GPU (2 is safe)\n",
        "    per_device_eval_batch_size=2,\n",
        "    gradient_accumulation_steps=8,  # Simulate larger batch size (2*8 = effective batch size 16)\n",
        "    warmup_steps=200,\n",
        "    weight_decay=0.01,\n",
        "    logging_dir=\"./logs\",\n",
        "    logging_steps=50,\n",
        "    eval_strategy=\"steps\", # Corrected parameter name\n",
        "    eval_steps=200,\n",
        "    save_strategy=\"steps\", # Corrected parameter name\n",
        "    save_steps=200, # Changed save_steps to be a multiple of eval_steps\n",
        "    load_best_model_at_end=True,\n",
        "    metric_for_best_model=\"eval_loss\",\n",
        "    greater_is_better=False,\n",
        "    save_total_limit=2,\n",
        "    prediction_loss_only=True,\n",
        "    fp16=True,  # Enable mixed precision for speed and memory\n",
        "    report_to=\"none\",  # Disable logging to save memory\n",
        "    dataloader_pin_memory=True,\n",
        ")\n",
        "\n",
        "print(\"✅ Training arguments configured!\")\n",
        "print(f\"Model parameters: {model.num_parameters() / 1e6:.1f}M\")"
      ],
      "metadata": {
        "colab": {
          "base_uri": "https://localhost:8080/"
        },
        "id": "hOLnGXIqwGIQ",
        "outputId": "b7b02d75-73c8-48b3-9c2b-45dcc8c5f545"
      },
      "execution_count": null,
      "outputs": [
        {
          "output_type": "stream",
          "name": "stdout",
          "text": [
            "✅ Training arguments configured!\n",
            "Model parameters: 305.5M\n"
          ]
        }
      ]
    },
    {
      "cell_type": "code",
      "source": [
        "# Create trainer\n",
        "# Initialize DataCollatorForSeq2Seq\n",
        "data_collator = DataCollatorForSeq2Seq(tokenizer=tokenizer, model=model)\n",
        "\n",
        "trainer = Trainer(\n",
        "    model=model,\n",
        "    args=training_args,\n",
        "    train_dataset=train_dataset,\n",
        "    eval_dataset=val_dataset,\n",
        "    tokenizer=tokenizer,\n",
        "    data_collator=data_collator, # Add data collator\n",
        ")\n",
        "\n",
        "print(\"Starting fine-tuning...\")\n",
        "print(f\"Training on {len(train_dataset)} samples\")\n",
        "print(f\"Validating on {len(val_dataset)} samples\")\n",
        "\n",
        "# Start training\n",
        "trainer.train()"
      ],
      "metadata": {
        "colab": {
          "base_uri": "https://localhost:8080/",
          "height": 757
        },
        "id": "5FN3K8q7_izi",
        "outputId": "a8fdfe7f-20d7-4f3a-c091-09ccf0bfd349"
      },
      "execution_count": null,
      "outputs": [
        {
          "output_type": "stream",
          "name": "stderr",
          "text": [
            "/tmp/ipython-input-1349313589.py:5: FutureWarning: `tokenizer` is deprecated and will be removed in version 5.0.0 for `Trainer.__init__`. Use `processing_class` instead.\n",
            "  trainer = Trainer(\n"
          ]
        },
        {
          "output_type": "stream",
          "name": "stdout",
          "text": [
            "Starting fine-tuning...\n",
            "Training on 12460 samples\n",
            "Validating on 500 samples\n"
          ]
        },
        {
          "output_type": "display_data",
          "data": {
            "text/plain": [
              "<IPython.core.display.HTML object>"
            ],
            "text/html": [
              "\n",
              "    <div>\n",
              "      \n",
              "      <progress value='3116' max='3116' style='width:300px; height:20px; vertical-align: middle;'></progress>\n",
              "      [3116/3116 1:55:46, Epoch 4/4]\n",
              "    </div>\n",
              "    <table border=\"1\" class=\"dataframe\">\n",
              "  <thead>\n",
              " <tr style=\"text-align: left;\">\n",
              "      <th>Step</th>\n",
              "      <th>Training Loss</th>\n",
              "      <th>Validation Loss</th>\n",
              "    </tr>\n",
              "  </thead>\n",
              "  <tbody>\n",
              "    <tr>\n",
              "      <td>200</td>\n",
              "      <td>0.402700</td>\n",
              "      <td>0.350904</td>\n",
              "    </tr>\n",
              "    <tr>\n",
              "      <td>400</td>\n",
              "      <td>0.361800</td>\n",
              "      <td>0.327278</td>\n",
              "    </tr>\n",
              "    <tr>\n",
              "      <td>600</td>\n",
              "      <td>0.354100</td>\n",
              "      <td>0.317755</td>\n",
              "    </tr>\n",
              "    <tr>\n",
              "      <td>800</td>\n",
              "      <td>0.310700</td>\n",
              "      <td>0.313314</td>\n",
              "    </tr>\n",
              "    <tr>\n",
              "      <td>1000</td>\n",
              "      <td>0.257200</td>\n",
              "      <td>0.308395</td>\n",
              "    </tr>\n",
              "    <tr>\n",
              "      <td>1200</td>\n",
              "      <td>0.250600</td>\n",
              "      <td>0.308564</td>\n",
              "    </tr>\n",
              "    <tr>\n",
              "      <td>1400</td>\n",
              "      <td>0.267100</td>\n",
              "      <td>0.302411</td>\n",
              "    </tr>\n",
              "    <tr>\n",
              "      <td>1600</td>\n",
              "      <td>0.198500</td>\n",
              "      <td>0.323064</td>\n",
              "    </tr>\n",
              "    <tr>\n",
              "      <td>1800</td>\n",
              "      <td>0.193600</td>\n",
              "      <td>0.319680</td>\n",
              "    </tr>\n",
              "    <tr>\n",
              "      <td>2000</td>\n",
              "      <td>0.192700</td>\n",
              "      <td>0.321054</td>\n",
              "    </tr>\n",
              "    <tr>\n",
              "      <td>2200</td>\n",
              "      <td>0.195300</td>\n",
              "      <td>0.316255</td>\n",
              "    </tr>\n",
              "    <tr>\n",
              "      <td>2400</td>\n",
              "      <td>0.145800</td>\n",
              "      <td>0.335492</td>\n",
              "    </tr>\n",
              "    <tr>\n",
              "      <td>2600</td>\n",
              "      <td>0.142900</td>\n",
              "      <td>0.341184</td>\n",
              "    </tr>\n",
              "    <tr>\n",
              "      <td>2800</td>\n",
              "      <td>0.139400</td>\n",
              "      <td>0.340418</td>\n",
              "    </tr>\n",
              "    <tr>\n",
              "      <td>3000</td>\n",
              "      <td>0.138300</td>\n",
              "      <td>0.339757</td>\n",
              "    </tr>\n",
              "  </tbody>\n",
              "</table><p>"
            ]
          },
          "metadata": {}
        },
        {
          "output_type": "stream",
          "name": "stderr",
          "text": [
            "/usr/local/lib/python3.12/dist-packages/transformers/modeling_utils.py:4037: UserWarning: Moving the following attributes in the config to the generation config: {'max_length': 142, 'min_length': 56, 'early_stopping': True, 'num_beams': 4, 'length_penalty': 2.0, 'no_repeat_ngram_size': 3, 'forced_bos_token_id': 0}. You are seeing this warning because you've set generation parameters in the model config, as opposed to in the generation config.\n",
            "  warnings.warn(\n",
            "There were missing keys in the checkpoint model loaded: ['model.encoder.embed_tokens.weight', 'model.decoder.embed_tokens.weight', 'lm_head.weight'].\n"
          ]
        },
        {
          "output_type": "execute_result",
          "data": {
            "text/plain": [
              "TrainOutput(global_step=3116, training_loss=0.3573248761303159, metrics={'train_runtime': 6948.9561, 'train_samples_per_second': 7.172, 'train_steps_per_second': 0.448, 'total_flos': 3.857396917075968e+16, 'train_loss': 0.3573248761303159, 'epoch': 4.0})"
            ]
          },
          "metadata": {},
          "execution_count": 11
        }
      ]
    },
    {
      "cell_type": "code",
      "source": [
        "# Save the fine-tuned model\n",
        "trainer.save_model(\"./dialogsum-finetuned-final\")\n",
        "tokenizer.save_pretrained(\"./dialogsum-finetuned-final\")\n",
        "\n",
        "print(\"✅ Fine-tuning complete!\")\n",
        "print(\"Model saved to ./dialogsum-finetuned-final\")"
      ],
      "metadata": {
        "id": "tyNVvDePxMDL",
        "collapsed": true
      },
      "execution_count": null,
      "outputs": []
    },
    {
      "cell_type": "code",
      "source": [
        "# Install evaluation library if not already installed\n",
        "!pip install -q evaluate rouge_score\n",
        "\n",
        "# Load ROUGE metric\n",
        "from evaluate import load\n",
        "rouge = load('rouge')\n",
        "\n",
        "# Load your test dataset\n",
        "import pandas as pd\n",
        "\n",
        "print(f\"Test set size: {len(test_df)} samples\")\n",
        "print(\"First test sample:\")\n",
        "print(\"DIALOGUE:\", test_df.iloc[0]['dialogue'][:200] + \"...\")\n",
        "print(\"SUMMARY:\", test_df.iloc[0]['summary'])"
      ],
      "metadata": {
        "id": "6UCB9YSq2-3U",
        "colab": {
          "base_uri": "https://localhost:8080/"
        },
        "outputId": "8d86bc19-d464-4528-c8b4-92db39883d73"
      },
      "execution_count": 5,
      "outputs": [
        {
          "output_type": "stream",
          "name": "stdout",
          "text": [
            "Test set size: 1500 samples\n",
            "First test sample:\n",
            "DIALOGUE: #Person1#: Ms. Dawson, I need you to take a dictation for me.\n",
            "#Person2#: Yes, sir...\n",
            "#Person1#: This should go out as an intra-office memorandum to all employees by this afternoon. Are you ready?\n",
            "#Per...\n",
            "SUMMARY: Ms. Dawson helps #Person1# to write a memo to inform every employee that they have to change the communication method and should not use Instant Messaging anymore.\n"
          ]
        }
      ]
    },
    {
      "cell_type": "code",
      "source": [
        "from transformers import pipeline\n",
        "import torch\n",
        "# Load your fine-tuned model\n",
        "fine_tuned_summarizer = pipeline(\n",
        "    \"summarization\",\n",
        "    model=\"./dialogsum-finetuned-final\",  # Path to your fine-tuned model\n",
        "    tokenizer=\"./dialogsum-finetuned-final\",\n",
        "    device=0 if torch.cuda.is_available() else -1,\n",
        "    # Set default parameters for summarization\n",
        "    max_length=80,      # Maximum summary length\n",
        "    min_length=20,      # Minimum summary length\n",
        "    do_sample=False,    # Use greedy decoding\n",
        "    truncation=True     # Truncate long dialogues\n",
        ")\n",
        "\n",
        "print(\"✅ Fine-tuned model loaded!\")"
      ],
      "metadata": {
        "id": "8b4rDEP2YvEv",
        "colab": {
          "base_uri": "https://localhost:8080/"
        },
        "outputId": "c6dbb8f2-0220-453e-929a-ea3b060f6ee8"
      },
      "execution_count": 7,
      "outputs": [
        {
          "output_type": "stream",
          "name": "stderr",
          "text": [
            "/usr/local/lib/python3.12/dist-packages/transformers/models/bart/configuration_bart.py:177: UserWarning: Please make sure the config includes `forced_bos_token_id=0` in future versions. The config can simply be saved and uploaded again to be fixed.\n",
            "  warnings.warn(\n",
            "Device set to use cuda:0\n"
          ]
        },
        {
          "output_type": "stream",
          "name": "stdout",
          "text": [
            "✅ Fine-tuned model loaded!\n"
          ]
        }
      ]
    },
    {
      "cell_type": "code",
      "source": [
        "# Generate summaries for first 100 test samples (adjust as needed)\n",
        "N_EVAL_SAMPLES = 100  # Use 100 for quick eval, or more if you have time\n",
        "test_subset = test_df.head(N_EVAL_SAMPLES)\n",
        "\n",
        "print(f\"⏳ Generating summaries for {len(test_subset)} test samples...\")\n",
        "\n",
        "generated_summaries = []\n",
        "for i in range(len(test_subset)):\n",
        "    if i % 10 == 0:\n",
        "        print(f\"Progress: {i}/{len(test_subset)}\", end=\"\\r\")\n",
        "\n",
        "    result = fine_tuned_summarizer(\n",
        "        test_subset.iloc[i]['dialogue'],\n",
        "        max_length=80,\n",
        "        min_length=20,\n",
        "        do_sample=False\n",
        "    )\n",
        "    generated_summaries.append(result[0]['summary_text'])\n",
        "\n",
        "print(f\"\\n✅ Generated {len(generated_summaries)} summaries\")"
      ],
      "metadata": {
        "id": "2WiEdKvaY_xB",
        "colab": {
          "base_uri": "https://localhost:8080/"
        },
        "outputId": "862b51f1-21c3-48bf-e041-375aed07162c"
      },
      "execution_count": 8,
      "outputs": [
        {
          "output_type": "stream",
          "name": "stdout",
          "text": [
            "⏳ Generating summaries for 100 test samples...\n",
            "Progress: 0/100\r"
          ]
        },
        {
          "output_type": "stream",
          "name": "stderr",
          "text": [
            "You seem to be using the pipelines sequentially on GPU. In order to maximize efficiency please use a dataset\n"
          ]
        },
        {
          "output_type": "stream",
          "name": "stdout",
          "text": []
        },
        {
          "output_type": "stream",
          "name": "stderr",
          "text": [
            "Your max_length is set to 80, but your input_length is only 71. Since this is a summarization task, where outputs shorter than the input are typically wanted, you might consider decreasing max_length manually, e.g. summarizer('...', max_length=35)\n",
            "Your max_length is set to 80, but your input_length is only 71. Since this is a summarization task, where outputs shorter than the input are typically wanted, you might consider decreasing max_length manually, e.g. summarizer('...', max_length=35)\n",
            "Your max_length is set to 80, but your input_length is only 71. Since this is a summarization task, where outputs shorter than the input are typically wanted, you might consider decreasing max_length manually, e.g. summarizer('...', max_length=35)\n"
          ]
        },
        {
          "output_type": "stream",
          "name": "stdout",
          "text": []
        },
        {
          "output_type": "stream",
          "name": "stderr",
          "text": [
            "Your max_length is set to 80, but your input_length is only 69. Since this is a summarization task, where outputs shorter than the input are typically wanted, you might consider decreasing max_length manually, e.g. summarizer('...', max_length=34)\n",
            "Your max_length is set to 80, but your input_length is only 69. Since this is a summarization task, where outputs shorter than the input are typically wanted, you might consider decreasing max_length manually, e.g. summarizer('...', max_length=34)\n",
            "Your max_length is set to 80, but your input_length is only 69. Since this is a summarization task, where outputs shorter than the input are typically wanted, you might consider decreasing max_length manually, e.g. summarizer('...', max_length=34)\n"
          ]
        },
        {
          "output_type": "stream",
          "name": "stdout",
          "text": [
            "Progress: 90/100\r\n",
            "✅ Generated 100 summaries\n"
          ]
        }
      ]
    },
    {
      "cell_type": "code",
      "source": [
        "# Compute ROUGE scores\n",
        "print(\"⏳ Computing ROUGE scores...\")\n",
        "reference_summaries = test_subset['summary'].tolist()\n",
        "\n",
        "rouge_results = rouge.compute(\n",
        "    predictions=generated_summaries,\n",
        "    references=reference_summaries\n",
        ")\n",
        "\n",
        "# Print results\n",
        "print(\"\\n📊 ROUGE SCORES (DialogSum Test Set):\")\n",
        "for metric, score in rouge_results.items():\n",
        "    print(f\"{metric.upper()}: {score:.4f}\")\n",
        "\n",
        "# Compare with your previous CNN/DM results\n",
        "print(f\"\\n🎯 COMPARISON:\")\n",
        "print(f\"DialogSum Fine-tuned ROUGE-1: {rouge_results['rouge1']:.4f}\")\n",
        "print(f\"Previous CNN/DM ROUGE-1: 0.3564\")\n",
        "print(f\"Improvement: {rouge_results['rouge1'] - 0.3564:.4f}\")"
      ],
      "metadata": {
        "id": "Y4dmeqiaZD8y",
        "colab": {
          "base_uri": "https://localhost:8080/"
        },
        "outputId": "917b3464-8c1b-4256-8901-7d291896c758"
      },
      "execution_count": 9,
      "outputs": [
        {
          "output_type": "stream",
          "name": "stdout",
          "text": [
            "⏳ Computing ROUGE scores...\n",
            "\n",
            "📊 ROUGE SCORES (DialogSum Test Set):\n",
            "ROUGE1: 0.4081\n",
            "ROUGE2: 0.1470\n",
            "ROUGEL: 0.3315\n",
            "ROUGELSUM: 0.3307\n",
            "\n",
            "🎯 COMPARISON:\n",
            "DialogSum Fine-tuned ROUGE-1: 0.4081\n",
            "Previous CNN/DM ROUGE-1: 0.3564\n",
            "Improvement: 0.0517\n"
          ]
        }
      ]
    },
    {
      "cell_type": "code",
      "source": [
        "# ROUGE scores data\n",
        "metrics = ['ROUGE-1', 'ROUGE-2', 'ROUGE-L']\n",
        "previous_scores = [0.3564, 0.1608, 0.2660]  # Your CNN/DM results\n",
        "fine_tuned_scores = [\n",
        "    rouge_results['rouge1'],\n",
        "    rouge_results['rouge2'],\n",
        "    rouge_results['rougeL']\n",
        "]\n",
        "\n",
        "# Create comparison plot\n",
        "fig, ax = plt.subplots(figsize=(12, 6))\n",
        "x = np.arange(len(metrics))\n",
        "width = 0.35\n",
        "\n",
        "bars1 = ax.bar(x - width/2, previous_scores, width, label='CNN/DM Baseline', alpha=0.8)\n",
        "bars2 = ax.bar(x + width/2, fine_tuned_scores, width, label='DialogSum Fine-tuned', alpha=0.8)\n",
        "\n",
        "ax.set_xlabel('ROUGE Metrics')\n",
        "ax.set_ylabel('Score')\n",
        "ax.set_title('ROUGE Scores: CNN/DM vs DialogSum Fine-tuning')\n",
        "ax.set_xticks(x)\n",
        "ax.set_xticklabels(metrics)\n",
        "ax.legend()\n",
        "\n",
        "# Add value labels on bars\n",
        "for bar in bars1:\n",
        "    height = bar.get_height()\n",
        "    ax.text(bar.get_x() + bar.get_width()/2., height,\n",
        "            f'{height:.3f}', ha='center', va='bottom')\n",
        "\n",
        "for bar in bars2:\n",
        "    height = bar.get_height()\n",
        "    ax.text(bar.get_x() + bar.get_width()/2., height,\n",
        "            f'{height:.3f}', ha='center', va='bottom')\n",
        "\n",
        "plt.tight_layout()\n",
        "plt.show()"
      ],
      "metadata": {
        "colab": {
          "base_uri": "https://localhost:8080/",
          "height": 589
        },
        "id": "u231rneHjm1o",
        "outputId": "b3e27fe1-2cb1-40d8-f748-e807922d4535"
      },
      "execution_count": 18,
      "outputs": [
        {
          "output_type": "display_data",
          "data": {
            "text/plain": [
              "<Figure size 1200x600 with 1 Axes>"
            ],
            "image/png": "[encoded data removed]"
          },
          "metadata": {}
        }
      ]
    },
    {
      "cell_type": "code",
      "source": [],
      "metadata": {
        "id": "RErXCkoShux1"
      },
      "execution_count": null,
      "outputs": []
    }
  ]
}